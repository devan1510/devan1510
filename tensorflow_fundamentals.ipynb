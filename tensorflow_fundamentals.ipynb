{
  "cells": [
    {
      "cell_type": "markdown",
      "metadata": {
        "id": "view-in-github",
        "colab_type": "text"
      },
      "source": [
        "<a href=\"https://colab.research.google.com/github/devan1510/devan1510/blob/main/tensorflow_fundamentals.ipynb\" target=\"_parent\"><img src=\"https://colab.research.google.com/assets/colab-badge.svg\" alt=\"Open In Colab\"/></a>"
      ]
    },
    {
      "cell_type": "code",
      "execution_count": null,
      "metadata": {
        "colab": {
          "base_uri": "https://localhost:8080/",
          "height": 36
        },
        "id": "wGS_iU8KV7gv",
        "outputId": "5d198a09-a51c-46d1-9404-8a251eb9a080"
      },
      "outputs": [
        {
          "output_type": "execute_result",
          "data": {
            "text/plain": [
              "'2.15.0'"
            ],
            "application/vnd.google.colaboratory.intrinsic+json": {
              "type": "string"
            }
          },
          "metadata": {},
          "execution_count": 2
        }
      ],
      "source": [
        "# import tenserflow\n",
        "import tensorflow as tf\n",
        "tf.__version__"
      ]
    },
    {
      "cell_type": "code",
      "execution_count": null,
      "metadata": {
        "colab": {
          "base_uri": "https://localhost:8080/"
        },
        "id": "QAy1GSjzz4sU",
        "outputId": "17c1706f-0beb-4add-bdb0-f640deee2489"
      },
      "outputs": [
        {
          "output_type": "execute_result",
          "data": {
            "text/plain": [
              "<tf.Tensor: shape=(), dtype=int32, numpy=15>"
            ]
          },
          "metadata": {},
          "execution_count": 3
        }
      ],
      "source": [
        "### creating tensors with tf.constant()\n",
        "## create a scalar(rank 0 tensor)\n",
        "scalar= tf.constant(15)\n",
        "scalar"
      ]
    },
    {
      "cell_type": "code",
      "execution_count": null,
      "metadata": {
        "id": "Jiq3H6mv0ntY",
        "colab": {
          "base_uri": "https://localhost:8080/"
        },
        "outputId": "5e40db84-cd56-4309-a1d1-3bf8c6cebeee"
      },
      "outputs": [
        {
          "output_type": "execute_result",
          "data": {
            "text/plain": [
              "0"
            ]
          },
          "metadata": {},
          "execution_count": 4
        }
      ],
      "source": [
        "# check the number of dimensions of a tensor (ndim stands for number of dimensins)\n",
        "scalar.ndim"
      ]
    },
    {
      "cell_type": "code",
      "source": [
        "### create a vector (tensor of 1 dimension)\n",
        "vector= tf.constant([10,10])\n",
        "vector"
      ],
      "metadata": {
        "colab": {
          "base_uri": "https://localhost:8080/"
        },
        "id": "k8hssHYC3fKg",
        "outputId": "af162664-5da8-4d5b-9bc2-a2323b688d79"
      },
      "execution_count": null,
      "outputs": [
        {
          "output_type": "execute_result",
          "data": {
            "text/plain": [
              "<tf.Tensor: shape=(2,), dtype=int32, numpy=array([10, 10], dtype=int32)>"
            ]
          },
          "metadata": {},
          "execution_count": 5
        }
      ]
    },
    {
      "cell_type": "code",
      "source": [
        "vector.ndim"
      ],
      "metadata": {
        "colab": {
          "base_uri": "https://localhost:8080/"
        },
        "id": "QoBCPSVG35Wu",
        "outputId": "078b3095-961d-4275-b326-8da91b192fa8"
      },
      "execution_count": null,
      "outputs": [
        {
          "output_type": "execute_result",
          "data": {
            "text/plain": [
              "1"
            ]
          },
          "metadata": {},
          "execution_count": 6
        }
      ]
    },
    {
      "cell_type": "code",
      "source": [
        "## create a matrix(more than 1 dimension)\n",
        "matrix= tf.constant(value=[[10,9],\n",
        "                           [5,6]])\n",
        "matrix"
      ],
      "metadata": {
        "colab": {
          "base_uri": "https://localhost:8080/"
        },
        "id": "KZ8DtsVy4Kjm",
        "outputId": "cb41815d-fcaf-49f5-bcaa-31767dfddd89"
      },
      "execution_count": null,
      "outputs": [
        {
          "output_type": "execute_result",
          "data": {
            "text/plain": [
              "<tf.Tensor: shape=(2, 2), dtype=int32, numpy=\n",
              "array([[10,  9],\n",
              "       [ 5,  6]], dtype=int32)>"
            ]
          },
          "metadata": {},
          "execution_count": 7
        }
      ]
    },
    {
      "cell_type": "code",
      "source": [
        "matrix.ndim"
      ],
      "metadata": {
        "colab": {
          "base_uri": "https://localhost:8080/"
        },
        "id": "mIKz2-CY4g7p",
        "outputId": "0641a37a-4ec2-423f-ca9c-bb589871ecab"
      },
      "execution_count": null,
      "outputs": [
        {
          "output_type": "execute_result",
          "data": {
            "text/plain": [
              "2"
            ]
          },
          "metadata": {},
          "execution_count": 8
        }
      ]
    },
    {
      "cell_type": "code",
      "source": [
        "# create another matrix and define the datatype\n",
        "matrix2= tf.constant([[2,3],\n",
        "                      [5,6],\n",
        "                      [7,8]],dtype= tf.float16)"
      ],
      "metadata": {
        "id": "5pKMHoCM7T0Z"
      },
      "execution_count": null,
      "outputs": []
    },
    {
      "cell_type": "code",
      "source": [
        "matrix2,matrix2.shape,matrix2.ndim"
      ],
      "metadata": {
        "colab": {
          "base_uri": "https://localhost:8080/"
        },
        "id": "eoX1PQMZ7vNe",
        "outputId": "591440df-923c-4b74-b0b5-05aaaa4ea3d2"
      },
      "execution_count": null,
      "outputs": [
        {
          "output_type": "execute_result",
          "data": {
            "text/plain": [
              "(<tf.Tensor: shape=(3, 2), dtype=float16, numpy=\n",
              " array([[2., 3.],\n",
              "        [5., 6.],\n",
              "        [7., 8.]], dtype=float16)>,\n",
              " TensorShape([3, 2]),\n",
              " 2)"
            ]
          },
          "metadata": {},
          "execution_count": 10
        }
      ]
    },
    {
      "cell_type": "code",
      "source": [
        "# create a tensor(n number of dimensions,technically all vectors and matrices are tensors)\n",
        "tensor= tf.constant([[[1,2,3],\n",
        "                     [4,5,6]],\n",
        "                    [[7,8,9],\n",
        "                     [10,11,12]],\n",
        "                    [[13,14,15],\n",
        "                     [16,17,18]]])\n",
        "tensor"
      ],
      "metadata": {
        "colab": {
          "base_uri": "https://localhost:8080/"
        },
        "id": "ceBhltXh8SZF",
        "outputId": "f1ddbd23-68b3-424e-e4d5-838b3faa5c5d"
      },
      "execution_count": null,
      "outputs": [
        {
          "output_type": "execute_result",
          "data": {
            "text/plain": [
              "<tf.Tensor: shape=(3, 2, 3), dtype=int32, numpy=\n",
              "array([[[ 1,  2,  3],\n",
              "        [ 4,  5,  6]],\n",
              "\n",
              "       [[ 7,  8,  9],\n",
              "        [10, 11, 12]],\n",
              "\n",
              "       [[13, 14, 15],\n",
              "        [16, 17, 18]]], dtype=int32)>"
            ]
          },
          "metadata": {},
          "execution_count": 11
        }
      ]
    },
    {
      "cell_type": "code",
      "source": [
        "tensor.ndim"
      ],
      "metadata": {
        "colab": {
          "base_uri": "https://localhost:8080/"
        },
        "id": "yzlbqpGv9U4l",
        "outputId": "fdc6db23-ca3d-4352-e5a4-ca4ebb5fd469"
      },
      "execution_count": null,
      "outputs": [
        {
          "output_type": "execute_result",
          "data": {
            "text/plain": [
              "3"
            ]
          },
          "metadata": {},
          "execution_count": 12
        }
      ]
    },
    {
      "cell_type": "code",
      "source": [
        "# create the same tensor with tf.Variable() and tf.constant()\n",
        "changable_tensor= tf.Variable([10,7])\n",
        "unchangable_tensor= tf.constant([10,7])\n",
        "changable_tensor,unchangable_tensor"
      ],
      "metadata": {
        "id": "_vkC6nwC9uVO",
        "colab": {
          "base_uri": "https://localhost:8080/"
        },
        "outputId": "8120025f-3b93-4b06-86dc-5a276107d00c"
      },
      "execution_count": null,
      "outputs": [
        {
          "output_type": "execute_result",
          "data": {
            "text/plain": [
              "(<tf.Variable 'Variable:0' shape=(2,) dtype=int32, numpy=array([10,  7], dtype=int32)>,\n",
              " <tf.Tensor: shape=(2,), dtype=int32, numpy=array([10,  7], dtype=int32)>)"
            ]
          },
          "metadata": {},
          "execution_count": 13
        }
      ]
    },
    {
      "cell_type": "code",
      "source": [
        "# elements in the constant tensor can not be edited or changed whereas, in the case of variable tensor elements can be edited\n",
        "# to change an element in the variable tensor use assign() method\n",
        "# here [] are used for indexing purposes\n",
        "changable_tensor[0].assign(7)"
      ],
      "metadata": {
        "colab": {
          "base_uri": "https://localhost:8080/"
        },
        "id": "uijJNovFDEtT",
        "outputId": "e9dd3197-7544-4df0-ea33-1f81dddc4677"
      },
      "execution_count": null,
      "outputs": [
        {
          "output_type": "execute_result",
          "data": {
            "text/plain": [
              "<tf.Variable 'UnreadVariable' shape=(2,) dtype=int32, numpy=array([7, 7], dtype=int32)>"
            ]
          },
          "metadata": {},
          "execution_count": 14
        }
      ]
    },
    {
      "cell_type": "code",
      "source": [
        "### creating random variables variables using tf.random\n",
        "random1= tf.random.Generator.from_seed(42) # set the global seed for reproducibility\n",
        "random1= random1.normal(shape= (3,2)) # create tensor from a normal distribution\n",
        "random2= tf.random.Generator.from_seed(42)\n",
        "random2= random2.normal(shape= (3,2))"
      ],
      "metadata": {
        "id": "AERfVrH8EI5q"
      },
      "execution_count": null,
      "outputs": []
    },
    {
      "cell_type": "code",
      "source": [
        "### shuffle given tensor elements amongst themselves\n",
        "not_shuffled= tf.constant([[10,7],\n",
        "                           [3,4],\n",
        "                           [2,5]])\n",
        "\n",
        "# get different arrangements of elements each time\n",
        "tf.random.shuffle(not_shuffled)"
      ],
      "metadata": {
        "colab": {
          "base_uri": "https://localhost:8080/"
        },
        "id": "k24_PFwSFsEH",
        "outputId": "b30e0e61-4e87-4223-9236-3b6d907466d3"
      },
      "execution_count": null,
      "outputs": [
        {
          "output_type": "execute_result",
          "data": {
            "text/plain": [
              "<tf.Tensor: shape=(3, 2), dtype=int32, numpy=\n",
              "array([[ 2,  5],\n",
              "       [ 3,  4],\n",
              "       [10,  7]], dtype=int32)>"
            ]
          },
          "metadata": {},
          "execution_count": 16
        }
      ]
    },
    {
      "cell_type": "markdown",
      "source": [
        "# other ways to make tensors in tensorflow"
      ],
      "metadata": {
        "id": "0mtAYLZ_HH5D"
      }
    },
    {
      "cell_type": "code",
      "source": [
        "# make a tensorof all ones and zeros\n",
        "tf1= tf.ones(shape= (3,2))\n",
        "tf0= tf.zeros(shape= (3,2))"
      ],
      "metadata": {
        "id": "sDUPNCFJFtro"
      },
      "execution_count": null,
      "outputs": []
    },
    {
      "cell_type": "code",
      "source": [
        "# create a tensor of rank(dimension) 4\n",
        "rank4_tensor= tf.zeros([2,3,4,5])\n",
        "rank4_tensor"
      ],
      "metadata": {
        "colab": {
          "base_uri": "https://localhost:8080/"
        },
        "id": "Ljblq1VEFvF9",
        "outputId": "d22e6141-f8e9-4d51-c7d4-496832dfdb5d"
      },
      "execution_count": null,
      "outputs": [
        {
          "output_type": "execute_result",
          "data": {
            "text/plain": [
              "<tf.Tensor: shape=(2, 3, 4, 5), dtype=float32, numpy=\n",
              "array([[[[0., 0., 0., 0., 0.],\n",
              "         [0., 0., 0., 0., 0.],\n",
              "         [0., 0., 0., 0., 0.],\n",
              "         [0., 0., 0., 0., 0.]],\n",
              "\n",
              "        [[0., 0., 0., 0., 0.],\n",
              "         [0., 0., 0., 0., 0.],\n",
              "         [0., 0., 0., 0., 0.],\n",
              "         [0., 0., 0., 0., 0.]],\n",
              "\n",
              "        [[0., 0., 0., 0., 0.],\n",
              "         [0., 0., 0., 0., 0.],\n",
              "         [0., 0., 0., 0., 0.],\n",
              "         [0., 0., 0., 0., 0.]]],\n",
              "\n",
              "\n",
              "       [[[0., 0., 0., 0., 0.],\n",
              "         [0., 0., 0., 0., 0.],\n",
              "         [0., 0., 0., 0., 0.],\n",
              "         [0., 0., 0., 0., 0.]],\n",
              "\n",
              "        [[0., 0., 0., 0., 0.],\n",
              "         [0., 0., 0., 0., 0.],\n",
              "         [0., 0., 0., 0., 0.],\n",
              "         [0., 0., 0., 0., 0.]],\n",
              "\n",
              "        [[0., 0., 0., 0., 0.],\n",
              "         [0., 0., 0., 0., 0.],\n",
              "         [0., 0., 0., 0., 0.],\n",
              "         [0., 0., 0., 0., 0.]]]], dtype=float32)>"
            ]
          },
          "metadata": {},
          "execution_count": 18
        }
      ]
    },
    {
      "cell_type": "code",
      "source": [
        "## get various attributes of a tensor\n",
        "print('datatype:',rank4_tensor.dtype)\n",
        "print('dimensions(rank):',rank4_tensor.ndim)\n",
        "print('shape:',rank4_tensor.shape)\n",
        "print('elements along the first[0] axis:',rank4_tensor.shape[0])\n",
        "print('elements along the last[-1] axis',rank4_tensor.shape[-1])\n",
        "print('total no. of elements',tf.size(rank4_tensor).numpy()) # .nimpy() converts the output into a numpy array"
      ],
      "metadata": {
        "colab": {
          "base_uri": "https://localhost:8080/"
        },
        "id": "oGmlRvgpFxPp",
        "outputId": "4b255398-8c0f-4f17-9820-503b6df60132"
      },
      "execution_count": null,
      "outputs": [
        {
          "output_type": "stream",
          "name": "stdout",
          "text": [
            "datatype: <dtype: 'float32'>\n",
            "dimensions(rank): 4\n",
            "shape: (2, 3, 4, 5)\n",
            "elements along the first[0] axis: 2\n",
            "elements along the last[-1] axis 5\n",
            "total no. of elements 120\n"
          ]
        }
      ]
    },
    {
      "cell_type": "markdown",
      "source": [
        "# indexing in tensor flow is similar to python\n"
      ],
      "metadata": {
        "id": "mLVCLyi1Flv0"
      }
    },
    {
      "cell_type": "code",
      "source": [
        "# get the first 2 elements of all the dimensions(rank)\n",
        "rank4_tensor[:2,:2,:2,:2]"
      ],
      "metadata": {
        "colab": {
          "base_uri": "https://localhost:8080/"
        },
        "id": "N38-exxRKYrX",
        "outputId": "d044bfba-a70e-49bc-d4ce-b975d0f9b388"
      },
      "execution_count": null,
      "outputs": [
        {
          "output_type": "execute_result",
          "data": {
            "text/plain": [
              "<tf.Tensor: shape=(2, 2, 2, 2), dtype=float32, numpy=\n",
              "array([[[[0., 0.],\n",
              "         [0., 0.]],\n",
              "\n",
              "        [[0., 0.],\n",
              "         [0., 0.]]],\n",
              "\n",
              "\n",
              "       [[[0., 0.],\n",
              "         [0., 0.]],\n",
              "\n",
              "        [[0., 0.],\n",
              "         [0., 0.]]]], dtype=float32)>"
            ]
          },
          "metadata": {},
          "execution_count": 20
        }
      ]
    },
    {
      "cell_type": "code",
      "source": [
        "# get the dimension from each index except for the final one\n",
        "rank4_tensor[:1,:1,:1,:]"
      ],
      "metadata": {
        "colab": {
          "base_uri": "https://localhost:8080/"
        },
        "id": "56F6HiAoKxvw",
        "outputId": "f7fa9df8-780b-4567-d59c-a134452cd713"
      },
      "execution_count": null,
      "outputs": [
        {
          "output_type": "execute_result",
          "data": {
            "text/plain": [
              "<tf.Tensor: shape=(1, 1, 1, 5), dtype=float32, numpy=array([[[[0., 0., 0., 0., 0.]]]], dtype=float32)>"
            ]
          },
          "metadata": {},
          "execution_count": 21
        }
      ]
    },
    {
      "cell_type": "code",
      "source": [
        "# create a rank 2 tensor(2 dimension)\n",
        "rank2_tensor= tf.constant([[3,4],\n",
        "                           [5,6]])\n",
        "rank2_tensor.ndim"
      ],
      "metadata": {
        "colab": {
          "base_uri": "https://localhost:8080/"
        },
        "id": "mjDRhSJBLehH",
        "outputId": "468cc372-9a12-464b-8cc9-420e382c818c"
      },
      "execution_count": null,
      "outputs": [
        {
          "output_type": "execute_result",
          "data": {
            "text/plain": [
              "2"
            ]
          },
          "metadata": {},
          "execution_count": 22
        }
      ]
    },
    {
      "cell_type": "code",
      "source": [
        "# get the last item of each row as a numpy array\n",
        "rank2_tensor[:,-1].numpy()"
      ],
      "metadata": {
        "colab": {
          "base_uri": "https://localhost:8080/"
        },
        "id": "nBsrXUM4MfDv",
        "outputId": "c2233632-0a70-40ae-93c3-7f78a0e886b2"
      },
      "execution_count": null,
      "outputs": [
        {
          "output_type": "execute_result",
          "data": {
            "text/plain": [
              "array([4, 6], dtype=int32)"
            ]
          },
          "metadata": {},
          "execution_count": 23
        }
      ]
    },
    {
      "cell_type": "markdown",
      "source": [
        "# adding dimensions to the tensor while keeping the same information"
      ],
      "metadata": {
        "id": "2L3Em6noN7lx"
      }
    },
    {
      "cell_type": "code",
      "source": [
        "## add an extra dimension to 2 rank tensor(matrix)\n",
        "rank3_tensor= rank2_tensor[...,tf.newaxis]\n",
        "rank2_tensor.ndim,rank3_tensor.ndim"
      ],
      "metadata": {
        "colab": {
          "base_uri": "https://localhost:8080/"
        },
        "id": "7uuSoNlDNvNv",
        "outputId": "d95173e8-b092-492f-8012-85ff434961c8"
      },
      "execution_count": null,
      "outputs": [
        {
          "output_type": "execute_result",
          "data": {
            "text/plain": [
              "(2, 3)"
            ]
          },
          "metadata": {},
          "execution_count": 24
        }
      ]
    },
    {
      "cell_type": "code",
      "source": [
        "## the same can be done using tf.expand_dims()\n",
        "tf.expand_dims(rank2_tensor,axis= -1)\n",
        "## axis parameter is used to determine along which axis the new dimension must be added\n",
        "## here,-1 means the last axis , 0 means the first axis and so long"
      ],
      "metadata": {
        "colab": {
          "base_uri": "https://localhost:8080/"
        },
        "id": "Z5dHp_S5PxDC",
        "outputId": "8914ed98-14d1-4fcb-e85b-b5dd91a620c1"
      },
      "execution_count": null,
      "outputs": [
        {
          "output_type": "execute_result",
          "data": {
            "text/plain": [
              "<tf.Tensor: shape=(2, 2, 1), dtype=int32, numpy=\n",
              "array([[[3],\n",
              "        [4]],\n",
              "\n",
              "       [[5],\n",
              "        [6]]], dtype=int32)>"
            ]
          },
          "metadata": {},
          "execution_count": 25
        }
      ]
    },
    {
      "cell_type": "markdown",
      "source": [
        "# manipulating tensors"
      ],
      "metadata": {
        "id": "45521UzpQxlb"
      }
    },
    {
      "cell_type": "code",
      "source": [
        "# basic_operations\n",
        "# add or subtract a scalar to a tensor\n",
        "tensor= tf.constant([[3,4],\n",
        "                     [5,6]])\n",
        "tensor + 10,tensor - 10,"
      ],
      "metadata": {
        "colab": {
          "base_uri": "https://localhost:8080/"
        },
        "id": "J6wy-Q8XQqMy",
        "outputId": "07b62929-fb13-46e9-9d67-b00f245d1a85"
      },
      "execution_count": null,
      "outputs": [
        {
          "output_type": "execute_result",
          "data": {
            "text/plain": [
              "(<tf.Tensor: shape=(2, 2), dtype=int32, numpy=\n",
              " array([[13, 14],\n",
              "        [15, 16]], dtype=int32)>,\n",
              " <tf.Tensor: shape=(2, 2), dtype=int32, numpy=\n",
              " array([[-7, -6],\n",
              "        [-5, -4]], dtype=int32)>)"
            ]
          },
          "metadata": {},
          "execution_count": 26
        }
      ]
    },
    {
      "cell_type": "code",
      "source": [
        "## use the multiply a tensor with a scalar\n",
        "tf.multiply(tensor,10)"
      ],
      "metadata": {
        "colab": {
          "base_uri": "https://localhost:8080/"
        },
        "id": "vdy2CkWeRXwJ",
        "outputId": "6014e21e-f830-4835-e3bd-0ad666751df7"
      },
      "execution_count": null,
      "outputs": [
        {
          "output_type": "execute_result",
          "data": {
            "text/plain": [
              "<tf.Tensor: shape=(2, 2), dtype=int32, numpy=\n",
              "array([[30, 40],\n",
              "       [50, 60]], dtype=int32)>"
            ]
          },
          "metadata": {},
          "execution_count": 27
        }
      ]
    },
    {
      "cell_type": "code",
      "source": [
        "# note: upon being multiplied by a scalar the original tensor remains unchanged\n"
      ],
      "metadata": {
        "id": "NYGBTZReSJZI"
      },
      "execution_count": null,
      "outputs": []
    },
    {
      "cell_type": "markdown",
      "source": [
        "# matrix multiplication in tenserflow\n",
        "\n",
        "\n",
        "\n",
        "\n",
        "\n"
      ],
      "metadata": {
        "id": "CN1BMrvlSn8L"
      }
    },
    {
      "cell_type": "code",
      "source": [
        "## matrix multiplication using tf.matmul()\n",
        "tf.matmul(tensor,tensor)"
      ],
      "metadata": {
        "colab": {
          "base_uri": "https://localhost:8080/"
        },
        "id": "e6gSxJFcSkQP",
        "outputId": "dc7d816c-d7b6-407b-f87e-ff97d17aad01"
      },
      "execution_count": null,
      "outputs": [
        {
          "output_type": "execute_result",
          "data": {
            "text/plain": [
              "<tf.Tensor: shape=(2, 2), dtype=int32, numpy=\n",
              "array([[29, 36],\n",
              "       [45, 56]], dtype=int32)>"
            ]
          },
          "metadata": {},
          "execution_count": 29
        }
      ]
    },
    {
      "cell_type": "code",
      "source": [
        "# create a 3 x 2 tensor\n",
        "X= tf.constant([[3,4],\n",
        "                         [5,6],\n",
        "                         [7,8]])"
      ],
      "metadata": {
        "id": "SUSF5DKFTJpe"
      },
      "execution_count": null,
      "outputs": []
    },
    {
      "cell_type": "code",
      "source": [
        "# Create another (3, 2) tensor\n",
        "Y = tf.constant([[7, 8],\n",
        "                 [9, 10],\n",
        "                 [11, 12]])"
      ],
      "metadata": {
        "id": "SW4HcPMlTrok"
      },
      "execution_count": null,
      "outputs": []
    },
    {
      "cell_type": "code",
      "source": [
        "X,Y"
      ],
      "metadata": {
        "colab": {
          "base_uri": "https://localhost:8080/"
        },
        "id": "AVOKl6tRT1_H",
        "outputId": "d782d2f9-65c3-4453-e60f-442530bbd6e2"
      },
      "execution_count": null,
      "outputs": [
        {
          "output_type": "execute_result",
          "data": {
            "text/plain": [
              "(<tf.Tensor: shape=(3, 2), dtype=int32, numpy=\n",
              " array([[3, 4],\n",
              "        [5, 6],\n",
              "        [7, 8]], dtype=int32)>,\n",
              " <tf.Tensor: shape=(3, 2), dtype=int32, numpy=\n",
              " array([[ 7,  8],\n",
              "        [ 9, 10],\n",
              "        [11, 12]], dtype=int32)>)"
            ]
          },
          "metadata": {},
          "execution_count": 32
        }
      ]
    },
    {
      "cell_type": "code",
      "source": [
        "Yt= tf.transpose(Y)\n",
        "tf.matmul(X,Yt)"
      ],
      "metadata": {
        "colab": {
          "base_uri": "https://localhost:8080/"
        },
        "id": "TzqGN2DpT7-W",
        "outputId": "c049af89-5788-4307-8493-4480b61ecec1"
      },
      "execution_count": null,
      "outputs": [
        {
          "output_type": "execute_result",
          "data": {
            "text/plain": [
              "<tf.Tensor: shape=(3, 3), dtype=int32, numpy=\n",
              "array([[ 53,  67,  81],\n",
              "       [ 83, 105, 127],\n",
              "       [113, 143, 173]], dtype=int32)>"
            ]
          },
          "metadata": {},
          "execution_count": 33
        }
      ]
    },
    {
      "cell_type": "markdown",
      "source": [
        "# difference between tf.reshape() and tf.transpose()"
      ],
      "metadata": {
        "id": "71ujsblaUxSr"
      }
    },
    {
      "cell_type": "code",
      "source": [
        "X,tf.transpose(X),tf.reshape(X,shape= (2,3))"
      ],
      "metadata": {
        "colab": {
          "base_uri": "https://localhost:8080/"
        },
        "id": "ZxMC3wD3UH5A",
        "outputId": "5c5a72dc-03d3-4a9a-a3cd-7a44a33c3002"
      },
      "execution_count": null,
      "outputs": [
        {
          "output_type": "execute_result",
          "data": {
            "text/plain": [
              "(<tf.Tensor: shape=(3, 2), dtype=int32, numpy=\n",
              " array([[3, 4],\n",
              "        [5, 6],\n",
              "        [7, 8]], dtype=int32)>,\n",
              " <tf.Tensor: shape=(2, 3), dtype=int32, numpy=\n",
              " array([[3, 5, 7],\n",
              "        [4, 6, 8]], dtype=int32)>,\n",
              " <tf.Tensor: shape=(2, 3), dtype=int32, numpy=\n",
              " array([[3, 4, 5],\n",
              "        [6, 7, 8]], dtype=int32)>)"
            ]
          },
          "metadata": {},
          "execution_count": 34
        }
      ]
    },
    {
      "cell_type": "code",
      "source": [
        "X @ tf.transpose(X), X @ tf.reshape(X,shape= (2,3))"
      ],
      "metadata": {
        "colab": {
          "base_uri": "https://localhost:8080/"
        },
        "id": "ShecEUaIVWqD",
        "outputId": "7f813ca8-ff11-4f7d-8ade-491ffb1e643e"
      },
      "execution_count": null,
      "outputs": [
        {
          "output_type": "execute_result",
          "data": {
            "text/plain": [
              "(<tf.Tensor: shape=(3, 3), dtype=int32, numpy=\n",
              " array([[ 25,  39,  53],\n",
              "        [ 39,  61,  83],\n",
              "        [ 53,  83, 113]], dtype=int32)>,\n",
              " <tf.Tensor: shape=(3, 3), dtype=int32, numpy=\n",
              " array([[33, 40, 47],\n",
              "        [51, 62, 73],\n",
              "        [69, 84, 99]], dtype=int32)>)"
            ]
          },
          "metadata": {},
          "execution_count": 35
        }
      ]
    },
    {
      "cell_type": "code",
      "source": [
        "# reshape the elements of a tensor using tf.reshape()\n",
        "tf.reshape(X,shape= (2,3))"
      ],
      "metadata": {
        "colab": {
          "base_uri": "https://localhost:8080/"
        },
        "id": "__vvdTRdV5si",
        "outputId": "66b71dfe-228e-4a0b-df4f-a1a3e37b130c"
      },
      "execution_count": null,
      "outputs": [
        {
          "output_type": "execute_result",
          "data": {
            "text/plain": [
              "<tf.Tensor: shape=(2, 3), dtype=int32, numpy=\n",
              "array([[3, 4, 5],\n",
              "       [6, 7, 8]], dtype=int32)>"
            ]
          },
          "metadata": {},
          "execution_count": 36
        }
      ]
    },
    {
      "cell_type": "code",
      "source": [
        "# tf.transpose() is used to switch the dimension of the tensor\n",
        "tf.transpose(X)"
      ],
      "metadata": {
        "colab": {
          "base_uri": "https://localhost:8080/"
        },
        "id": "LXhqExkXWiz5",
        "outputId": "8f63f1d6-ecbb-47ed-d8d7-c23e5199aaa3"
      },
      "execution_count": null,
      "outputs": [
        {
          "output_type": "execute_result",
          "data": {
            "text/plain": [
              "<tf.Tensor: shape=(2, 3), dtype=int32, numpy=\n",
              "array([[3, 5, 7],\n",
              "       [4, 6, 8]], dtype=int32)>"
            ]
          },
          "metadata": {},
          "execution_count": 37
        }
      ]
    },
    {
      "cell_type": "code",
      "source": [
        "# we can multiply two tensors X and Y using parameters\n",
        "tf.matmul(a= X,b= Y,transpose_a= True,transpose_b= False)"
      ],
      "metadata": {
        "colab": {
          "base_uri": "https://localhost:8080/"
        },
        "id": "BSlU1-gCWx5p",
        "outputId": "978359b5-8c8b-44f8-cce0-1836b89314d6"
      },
      "execution_count": null,
      "outputs": [
        {
          "output_type": "execute_result",
          "data": {
            "text/plain": [
              "<tf.Tensor: shape=(2, 2), dtype=int32, numpy=\n",
              "array([[143, 158],\n",
              "       [170, 188]], dtype=int32)>"
            ]
          },
          "metadata": {},
          "execution_count": 38
        }
      ]
    },
    {
      "cell_type": "markdown",
      "source": [
        "# the dot product(product of orthogonal projection of one vector upon another )"
      ],
      "metadata": {
        "id": "s22V8xc8YHb_"
      }
    },
    {
      "cell_type": "code",
      "source": [
        "## calculate the dot product on X and Y(requires X to be transposed)\n",
        "tf.tensordot(tf.transpose(X),Y,axes= 1)"
      ],
      "metadata": {
        "colab": {
          "base_uri": "https://localhost:8080/"
        },
        "id": "M0MBDKHBX5Iu",
        "outputId": "3dc164ce-cbb5-460a-eb06-9434e4e60257"
      },
      "execution_count": null,
      "outputs": [
        {
          "output_type": "execute_result",
          "data": {
            "text/plain": [
              "<tf.Tensor: shape=(2, 2), dtype=int32, numpy=\n",
              "array([[143, 158],\n",
              "       [170, 188]], dtype=int32)>"
            ]
          },
          "metadata": {},
          "execution_count": 39
        }
      ]
    },
    {
      "cell_type": "markdown",
      "source": [
        "# changing the data type of tensor elements"
      ],
      "metadata": {
        "id": "lrX6goWbZdiN"
      }
    },
    {
      "cell_type": "code",
      "source": [
        "# create a new tensor with default datatype (float32)\n",
        "B= tf.constant([1.7,7.4])"
      ],
      "metadata": {
        "id": "4vjBNI0mZQVx"
      },
      "execution_count": null,
      "outputs": []
    },
    {
      "cell_type": "code",
      "source": [
        "# create a new tensor with default datatype(int32)\n",
        "C= tf.constant([1,7])\n",
        "B,C"
      ],
      "metadata": {
        "colab": {
          "base_uri": "https://localhost:8080/"
        },
        "id": "dv1ndv4UREzn",
        "outputId": "e4f61891-5485-4e20-a845-7e0d89dc629e"
      },
      "execution_count": null,
      "outputs": [
        {
          "output_type": "execute_result",
          "data": {
            "text/plain": [
              "(<tf.Tensor: shape=(2,), dtype=float32, numpy=array([1.7, 7.4], dtype=float32)>,\n",
              " <tf.Tensor: shape=(2,), dtype=int32, numpy=array([1, 7], dtype=int32)>)"
            ]
          },
          "metadata": {},
          "execution_count": 41
        }
      ]
    },
    {
      "cell_type": "code",
      "source": [
        "# change from float32 to float16(reduced precision)\n",
        "B= tf.cast(B,dtype= tf.float16)"
      ],
      "metadata": {
        "id": "abnPdY_ERpN_"
      },
      "execution_count": null,
      "outputs": []
    },
    {
      "cell_type": "code",
      "source": [
        "# change C from int32 to float32\n",
        "C= tf.cast(C,dtype= tf.float16)"
      ],
      "metadata": {
        "id": "e4r6dCzUSCng"
      },
      "execution_count": null,
      "outputs": []
    },
    {
      "cell_type": "markdown",
      "source": [
        "# get the absolute values using tf.abs()"
      ],
      "metadata": {
        "id": "44D3GAoXSqkn"
      }
    },
    {
      "cell_type": "code",
      "source": [
        "# create tensor with negative values\n",
        "D= tf.constant([[-7,-10],\n",
        "                [-6,-25]])\n",
        "D"
      ],
      "metadata": {
        "colab": {
          "base_uri": "https://localhost:8080/"
        },
        "id": "cS5kO-T-ShET",
        "outputId": "f36eb74d-0ef8-4d9c-f30d-50039de9cf72"
      },
      "execution_count": null,
      "outputs": [
        {
          "output_type": "execute_result",
          "data": {
            "text/plain": [
              "<tf.Tensor: shape=(2, 2), dtype=int32, numpy=\n",
              "array([[ -7, -10],\n",
              "       [ -6, -25]], dtype=int32)>"
            ]
          },
          "metadata": {},
          "execution_count": 47
        }
      ]
    },
    {
      "cell_type": "code",
      "source": [
        "tf.abs(D)"
      ],
      "metadata": {
        "colab": {
          "base_uri": "https://localhost:8080/"
        },
        "id": "4PosovBuTDHd",
        "outputId": "fe609354-012a-4ab1-c168-44112119b0c5"
      },
      "execution_count": null,
      "outputs": [
        {
          "output_type": "execute_result",
          "data": {
            "text/plain": [
              "<tf.Tensor: shape=(2, 2), dtype=int32, numpy=\n",
              "array([[ 7, 10],\n",
              "       [ 6, 25]], dtype=int32)>"
            ]
          },
          "metadata": {},
          "execution_count": 48
        }
      ]
    },
    {
      "cell_type": "markdown",
      "source": [
        "# find the min,max,mean,sum(aggregation)"
      ],
      "metadata": {
        "id": "1fIx_1WeTWId"
      }
    },
    {
      "cell_type": "code",
      "source": [
        "# create a tensor with 50 random values between 0 and 100\n",
        "import numpy as np\n",
        "E= tf.constant(np.random.randint(low= 0,high= 100,size= 50))\n",
        "E"
      ],
      "metadata": {
        "colab": {
          "base_uri": "https://localhost:8080/"
        },
        "id": "LkkIDqvrTPJc",
        "outputId": "18ec0f0b-b69c-466c-9039-af1bda604588"
      },
      "execution_count": null,
      "outputs": [
        {
          "output_type": "execute_result",
          "data": {
            "text/plain": [
              "<tf.Tensor: shape=(50,), dtype=int64, numpy=\n",
              "array([10, 77, 20, 53, 11, 61, 39, 18, 10, 97, 69, 39, 97, 81, 98, 72, 32,\n",
              "       87, 77, 91, 84, 20, 36, 29,  2, 30, 29, 13, 68, 81,  0, 94,  3, 48,\n",
              "       44, 82, 67, 65,  3, 23, 33, 71, 37, 69, 69,  9,  8,  9, 58, 74])>"
            ]
          },
          "metadata": {},
          "execution_count": 52
        }
      ]
    },
    {
      "cell_type": "code",
      "source": [
        "# find the minimum using tf.reduce_min()\n",
        "tf.reduce_min(E)"
      ],
      "metadata": {
        "colab": {
          "base_uri": "https://localhost:8080/"
        },
        "id": "qIRRkKEHT5Eo",
        "outputId": "fbd192fb-8b7e-456b-9a5d-263db7197db1"
      },
      "execution_count": null,
      "outputs": [
        {
          "output_type": "execute_result",
          "data": {
            "text/plain": [
              "<tf.Tensor: shape=(), dtype=int64, numpy=0>"
            ]
          },
          "metadata": {},
          "execution_count": 53
        }
      ]
    },
    {
      "cell_type": "code",
      "source": [
        "# find the maximum using tf.reduce_max()\n",
        "tf.reduce_max(E)"
      ],
      "metadata": {
        "colab": {
          "base_uri": "https://localhost:8080/"
        },
        "id": "EDX-Va39UXyf",
        "outputId": "10db73f3-a5ec-4588-ddff-a4b28a441d33"
      },
      "execution_count": null,
      "outputs": [
        {
          "output_type": "execute_result",
          "data": {
            "text/plain": [
              "<tf.Tensor: shape=(), dtype=int64, numpy=98>"
            ]
          },
          "metadata": {},
          "execution_count": 54
        }
      ]
    },
    {
      "cell_type": "code",
      "source": [
        "# find the mean using tf.reduce_mean()\n",
        "tf.reduce_mean(E)"
      ],
      "metadata": {
        "colab": {
          "base_uri": "https://localhost:8080/"
        },
        "id": "fmC4sZsZUoNA",
        "outputId": "e45a34ae-ef89-4187-f141-964b606def9f"
      },
      "execution_count": null,
      "outputs": [
        {
          "output_type": "execute_result",
          "data": {
            "text/plain": [
              "<tf.Tensor: shape=(), dtype=int64, numpy=47>"
            ]
          },
          "metadata": {},
          "execution_count": 55
        }
      ]
    },
    {
      "cell_type": "code",
      "source": [
        "#find the sum tf.reduce_sum()\n",
        "tf.reduce_sum(E)"
      ],
      "metadata": {
        "colab": {
          "base_uri": "https://localhost:8080/"
        },
        "id": "Z3uVNvcxUyFN",
        "outputId": "1d6a638e-d849-438d-fcf8-8204684fcfc9"
      },
      "execution_count": null,
      "outputs": [
        {
          "output_type": "execute_result",
          "data": {
            "text/plain": [
              "<tf.Tensor: shape=(), dtype=int64, numpy=2397>"
            ]
          },
          "metadata": {},
          "execution_count": 56
        }
      ]
    },
    {
      "cell_type": "markdown",
      "source": [
        "# for standard deviation and variance use tfp.stats"
      ],
      "metadata": {
        "id": "e7sLqsJPWrA_"
      }
    },
    {
      "cell_type": "code",
      "source": [
        "# first import tensorflow_probability(tfp)\n",
        "# find the standard deviation\n",
        "import tensorflow_probability as tfp\n",
        "tf.cast(E,tf.float64)\n",
        "tfp.stats.variance(E)"
      ],
      "metadata": {
        "colab": {
          "base_uri": "https://localhost:8080/"
        },
        "id": "bvmTn5y0VFZY",
        "outputId": "36866d2e-52a1-462b-8ef1-52e2353fb5c4"
      },
      "execution_count": null,
      "outputs": [
        {
          "output_type": "execute_result",
          "data": {
            "text/plain": [
              "<tf.Tensor: shape=(), dtype=int64, numpy=944>"
            ]
          },
          "metadata": {},
          "execution_count": 69
        }
      ]
    },
    {
      "cell_type": "code",
      "source": [
        "E= tf.cast(E,dtype= tf.float32)\n",
        "tfp.stats.stddev(E)"
      ],
      "metadata": {
        "colab": {
          "base_uri": "https://localhost:8080/"
        },
        "id": "8qsujD-nVeXL",
        "outputId": "bd057b8b-2eca-4ad4-f4d9-f313c3c2a7da"
      },
      "execution_count": null,
      "outputs": [
        {
          "output_type": "execute_result",
          "data": {
            "text/plain": [
              "<tf.Tensor: shape=(), dtype=float32, numpy=30.726152>"
            ]
          },
          "metadata": {},
          "execution_count": 94
        }
      ]
    },
    {
      "cell_type": "code",
      "source": [
        "#finding positional maximum and minimum using tf.argmax() and tf.argmin()\n",
        "a,b= tf.argmax(E).numpy(),tf.argmin(E).numpy()\n"
      ],
      "metadata": {
        "id": "q5WF-9rSZEZ5"
      },
      "execution_count": null,
      "outputs": []
    },
    {
      "cell_type": "markdown",
      "source": [
        "# squeezing a tensor(removing all single dimensions(ranks))"
      ],
      "metadata": {
        "id": "x0rMRh4daHSI"
      }
    },
    {
      "cell_type": "code",
      "source": [
        "# remove single dimension using tf.squeeze()\n",
        "# create a rank 5 tensor of 50 elements between 0 and 100\n",
        "G= tf.constant(np.random.randint(0,100,50),shape= (1,1,1,1,50))\n",
        "G.shape,G.ndim"
      ],
      "metadata": {
        "colab": {
          "base_uri": "https://localhost:8080/"
        },
        "id": "VtqCGG8qZwra",
        "outputId": "79b685fe-b54e-4097-e9cd-9d0cf72fd498"
      },
      "execution_count": null,
      "outputs": [
        {
          "output_type": "execute_result",
          "data": {
            "text/plain": [
              "(TensorShape([1, 1, 1, 1, 50]), 5)"
            ]
          },
          "metadata": {},
          "execution_count": 79
        }
      ]
    },
    {
      "cell_type": "code",
      "source": [
        "# squeeze tensor G(remove all 1 dimensions)\n",
        "G_squeezed= tf.squeeze(G)\n",
        "G_squeezed.shape,G_squeezed.ndim"
      ],
      "metadata": {
        "colab": {
          "base_uri": "https://localhost:8080/"
        },
        "id": "D5UbnPscaBy3",
        "outputId": "e7826509-88df-4719-ae0e-90aa405e543c"
      },
      "execution_count": null,
      "outputs": [
        {
          "output_type": "execute_result",
          "data": {
            "text/plain": [
              "(TensorShape([50]), 1)"
            ]
          },
          "metadata": {},
          "execution_count": 83
        }
      ]
    },
    {
      "cell_type": "markdown",
      "source": [
        "# one hot encoding(numerical encoding to a categorical data)\n",
        "\n"
      ],
      "metadata": {
        "id": "ykFSHqfbb5co"
      }
    },
    {
      "cell_type": "code",
      "source": [
        "# create a list of indices\n",
        "some_list= [0,1,2,3]\n",
        "# one hot encode them\n",
        "tf.one_hot(some_list, depth= 4) # this will encode the above list in the form of 1 and 0"
      ],
      "metadata": {
        "colab": {
          "base_uri": "https://localhost:8080/"
        },
        "id": "KFXoG-NAbgOQ",
        "outputId": "be152271-f6b7-4b35-8997-7f326bbb88fd"
      },
      "execution_count": null,
      "outputs": [
        {
          "output_type": "execute_result",
          "data": {
            "text/plain": [
              "<tf.Tensor: shape=(4, 4), dtype=float32, numpy=\n",
              "array([[1., 0., 0., 0.],\n",
              "       [0., 1., 0., 0.],\n",
              "       [0., 0., 1., 0.],\n",
              "       [0., 0., 0., 1.]], dtype=float32)>"
            ]
          },
          "metadata": {},
          "execution_count": 84
        }
      ]
    },
    {
      "cell_type": "code",
      "source": [
        "# square,log square_root\n",
        "tf.square(some_list)# this will square every element in the tensor"
      ],
      "metadata": {
        "colab": {
          "base_uri": "https://localhost:8080/"
        },
        "id": "K4N7Qgl3cxEr",
        "outputId": "a7028dbf-8555-4e9b-f4e6-f2f37f02d0e0"
      },
      "execution_count": null,
      "outputs": [
        {
          "output_type": "execute_result",
          "data": {
            "text/plain": [
              "<tf.Tensor: shape=(4,), dtype=int32, numpy=array([0, 1, 4, 9], dtype=int32)>"
            ]
          },
          "metadata": {},
          "execution_count": 85
        }
      ]
    },
    {
      "cell_type": "code",
      "source": [
        "some_list= tf.cast(some_list,dtype= tf.float32)\n",
        "tf.sqrt(some_list)# find the sqrt of elements"
      ],
      "metadata": {
        "colab": {
          "base_uri": "https://localhost:8080/"
        },
        "id": "yYoiQ6REdXZW",
        "outputId": "1a761714-3b78-4515-c198-d5b3362430a9"
      },
      "execution_count": null,
      "outputs": [
        {
          "output_type": "execute_result",
          "data": {
            "text/plain": [
              "<tf.Tensor: shape=(4,), dtype=float32, numpy=array([0.       , 1.       , 1.4142135, 1.7320508], dtype=float32)>"
            ]
          },
          "metadata": {},
          "execution_count": 93
        }
      ]
    },
    {
      "cell_type": "code",
      "source": [
        "H= tf.constant(np.arange(1,10))\n",
        "H= tf.cast(H,dtype= tf.float32)\n",
        "tf.math.log(H)"
      ],
      "metadata": {
        "colab": {
          "base_uri": "https://localhost:8080/"
        },
        "id": "9jHvXjcldvOb",
        "outputId": "307e915e-63cb-4127-fbab-43f5162bc43d"
      },
      "execution_count": null,
      "outputs": [
        {
          "output_type": "execute_result",
          "data": {
            "text/plain": [
              "<tf.Tensor: shape=(9,), dtype=float32, numpy=\n",
              "array([0.       , 0.6931472, 1.0986123, 1.3862944, 1.609438 , 1.7917595,\n",
              "       1.9459102, 2.0794415, 2.1972246], dtype=float32)>"
            ]
          },
          "metadata": {},
          "execution_count": 92
        }
      ]
    },
    {
      "cell_type": "markdown",
      "source": [
        "# manipulating tf.variable tensors"
      ],
      "metadata": {
        "id": "GTEHB_A9gGtY"
      }
    },
    {
      "cell_type": "code",
      "source": [
        "# assign a particular value to a particular index of a variable tensor using .assign()\n",
        "#create a variable tensor\n",
        "I= tf.Variable(np.arange(0,5))\n",
        "I"
      ],
      "metadata": {
        "colab": {
          "base_uri": "https://localhost:8080/"
        },
        "id": "xJyH6LOHd2TH",
        "outputId": "8eb57e38-4bce-4a21-cf0e-5113e03107d6"
      },
      "execution_count": null,
      "outputs": [
        {
          "output_type": "execute_result",
          "data": {
            "text/plain": [
              "<tf.Variable 'Variable:0' shape=(5,) dtype=int64, numpy=array([0, 1, 2, 3, 4])>"
            ]
          },
          "metadata": {},
          "execution_count": 96
        }
      ]
    },
    {
      "cell_type": "code",
      "source": [
        "# assign the final value as 50\n",
        "I.assign([0, 1, 2, 3,50]) # the change would be permanent"
      ],
      "metadata": {
        "colab": {
          "base_uri": "https://localhost:8080/"
        },
        "id": "yeYrYhCzg0fc",
        "outputId": "34a735b6-b2ac-4871-8792-f6f8e1b81623"
      },
      "execution_count": null,
      "outputs": [
        {
          "output_type": "execute_result",
          "data": {
            "text/plain": [
              "<tf.Variable 'UnreadVariable' shape=(5,) dtype=int64, numpy=array([ 0,  1,  2,  3, 50])>"
            ]
          },
          "metadata": {},
          "execution_count": 97
        }
      ]
    },
    {
      "cell_type": "code",
      "source": [
        "# add a scalar to every element of a variable tensor using .assign_add()\n",
        "I.assign_add([10,10,10,10,10])"
      ],
      "metadata": {
        "colab": {
          "base_uri": "https://localhost:8080/"
        },
        "id": "nCZh13YThRzs",
        "outputId": "3d9f4812-2be6-48d5-afdc-3e08304ce7ec"
      },
      "execution_count": null,
      "outputs": [
        {
          "output_type": "execute_result",
          "data": {
            "text/plain": [
              "<tf.Variable 'UnreadVariable' shape=(5,) dtype=int64, numpy=array([10, 11, 12, 13, 60])>"
            ]
          },
          "metadata": {},
          "execution_count": 98
        }
      ]
    },
    {
      "cell_type": "markdown",
      "source": [],
      "metadata": {
        "id": "-IN2zUo_h_fb"
      }
    },
    {
      "cell_type": "markdown",
      "source": [
        "# tensors and numpy"
      ],
      "metadata": {
        "id": "oUjWxpc8iEzx"
      }
    },
    {
      "cell_type": "code",
      "source": [
        "# tensors can be converted into numpy arrays using .numpy()\n",
        "J= tf.constant(np.array(np.arange(0,5)))"
      ],
      "metadata": {
        "id": "ca5cVHhKhvpL"
      },
      "execution_count": null,
      "outputs": []
    },
    {
      "cell_type": "code",
      "source": [
        "J.numpy()"
      ],
      "metadata": {
        "colab": {
          "base_uri": "https://localhost:8080/"
        },
        "id": "z4XHroM5h1ku",
        "outputId": "150f3bb0-5ba4-4bf3-f688-b119d65b1998"
      },
      "execution_count": null,
      "outputs": [
        {
          "output_type": "execute_result",
          "data": {
            "text/plain": [
              "array([0, 1, 2, 3, 4])"
            ]
          },
          "metadata": {},
          "execution_count": 102
        }
      ]
    },
    {
      "cell_type": "markdown",
      "source": [
        "# tf.function()\n"
      ],
      "metadata": {
        "id": "yWJ9r0hZjIGa"
      }
    },
    {
      "cell_type": "code",
      "source": [
        "# create a function\n",
        "def function(x,y):\n",
        "  return x**2 +y\n",
        "x= tf.constant(np.arange(0,10))\n",
        "y= tf.constant(np.arange(10,20))\n",
        "function(x,y)"
      ],
      "metadata": {
        "colab": {
          "base_uri": "https://localhost:8080/"
        },
        "id": "5PQiWhd2iw5Z",
        "outputId": "8431256d-1aae-4b19-acde-e2407ec353d9"
      },
      "execution_count": null,
      "outputs": [
        {
          "output_type": "execute_result",
          "data": {
            "text/plain": [
              "<tf.Tensor: shape=(10,), dtype=int64, numpy=array([ 10,  12,  16,  22,  30,  40,  52,  66,  82, 100])>"
            ]
          },
          "metadata": {},
          "execution_count": 105
        }
      ]
    },
    {
      "cell_type": "code",
      "source": [
        "# create the same function and decorate it with tf.function\n",
        "@tf.function\n",
        "def tf_function(x,y):\n",
        "  return x**2 +y\n",
        "tf_function(x,y)"
      ],
      "metadata": {
        "colab": {
          "base_uri": "https://localhost:8080/"
        },
        "id": "0Q3Apc3sj7zw",
        "outputId": "b71c24ae-6383-40f3-fbc3-f2cb376f0fd5"
      },
      "execution_count": null,
      "outputs": [
        {
          "output_type": "execute_result",
          "data": {
            "text/plain": [
              "<tf.Tensor: shape=(10,), dtype=int64, numpy=array([ 10,  12,  16,  22,  30,  40,  52,  66,  82, 100])>"
            ]
          },
          "metadata": {},
          "execution_count": 106
        }
      ]
    },
    {
      "cell_type": "code",
      "source": [],
      "metadata": {
        "id": "bdWVwvG3kiCC"
      },
      "execution_count": null,
      "outputs": []
    }
  ],
  "metadata": {
    "colab": {
      "provenance": [],
      "gpuType": "T4",
      "authorship_tag": "ABX9TyPVQlYhppvxczO8URtlo5hA",
      "include_colab_link": true
    },
    "kernelspec": {
      "display_name": "Python 3",
      "name": "python3"
    },
    "language_info": {
      "name": "python"
    },
    "accelerator": "GPU"
  },
  "nbformat": 4,
  "nbformat_minor": 0
}